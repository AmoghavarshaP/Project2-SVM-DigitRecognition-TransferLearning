{
 "cells": [
  {
   "cell_type": "code",
   "execution_count": 1,
   "metadata": {},
   "outputs": [],
   "source": [
    "#Implementation of a convolutional Neural Network (CNN) with the 10-Species Monkey Dataset"
   ]
  },
  {
   "cell_type": "code",
   "execution_count": 2,
   "metadata": {},
   "outputs": [],
   "source": [
    "import matplotlib.pyplot as plt\n",
    "%matplotlib inline"
   ]
  },
  {
   "cell_type": "code",
   "execution_count": 3,
   "metadata": {},
   "outputs": [],
   "source": [
    "#Create an ImageGenerator object that is used to randomize and make certain small transformations to the image\n",
    "#to build better and robust networks\n",
    "\n",
    "from keras.preprocessing.image import ImageDataGenerator"
   ]
  },
  {
   "cell_type": "code",
   "execution_count": 4,
   "metadata": {},
   "outputs": [],
   "source": [
    "image_gen = ImageDataGenerator(rotation_range=30,\n",
    "                              width_shift_range=0.1,\n",
    "                              height_shift_range=0.1,\n",
    "                              rescale=1/255,\n",
    "                              zoom_range=0.2,\n",
    "                              shear_range=0.2,\n",
    "                              fill_mode='nearest')"
   ]
  },
  {
   "cell_type": "markdown",
   "metadata": {},
   "source": [
    "## Model:"
   ]
  },
  {
   "cell_type": "code",
   "execution_count": 5,
   "metadata": {},
   "outputs": [],
   "source": [
    "from keras.models import Sequential\n",
    "from keras.layers import Dense,Dropout,Flatten,Conv2D,MaxPooling2D"
   ]
  },
  {
   "cell_type": "code",
   "execution_count": 6,
   "metadata": {},
   "outputs": [],
   "source": [
    "model = Sequential()\n",
    "\n",
    "model.add(Conv2D(filters=32, kernel_size=(3,3),input_shape=(150,150,3), activation='relu',))\n",
    "model.add(MaxPooling2D(pool_size=(2,2)))\n",
    "\n",
    "model.add(Conv2D(filters=64,kernel_size=(3,3),activation='relu',))\n",
    "model.add(MaxPooling2D(pool_size=(2,2)))\n",
    "\n",
    "model.add(Conv2D(filters=64,kernel_size=(3,3),activation='relu',))\n",
    "model.add(MaxPooling2D(pool_size=(2,2)))\n",
    "\n",
    "#Now need to flatten the model essentally 2d to 1d\n",
    "model.add(Flatten())\n",
    "\n",
    "#Now include the Dense layers\n",
    "model.add(Dense(128,activation='relu'))\n",
    "\n",
    "#Finally, the output layer\n",
    "model.add(Dense(10 , activation ='softmax'))\n",
    "\n",
    "model.compile(loss=\"categorical_crossentropy\", optimizer=\"adam\", metrics=[\"accuracy\"])"
   ]
  },
  {
   "cell_type": "code",
   "execution_count": 8,
   "metadata": {},
   "outputs": [
    {
     "name": "stdout",
     "output_type": "stream",
     "text": [
      "Model: \"sequential\"\n",
      "_________________________________________________________________\n",
      "Layer (type)                 Output Shape              Param #   \n",
      "=================================================================\n",
      "conv2d (Conv2D)              (None, 148, 148, 32)      896       \n",
      "_________________________________________________________________\n",
      "max_pooling2d (MaxPooling2D) (None, 74, 74, 32)        0         \n",
      "_________________________________________________________________\n",
      "conv2d_1 (Conv2D)            (None, 72, 72, 64)        18496     \n",
      "_________________________________________________________________\n",
      "max_pooling2d_1 (MaxPooling2 (None, 36, 36, 64)        0         \n",
      "_________________________________________________________________\n",
      "conv2d_2 (Conv2D)            (None, 34, 34, 64)        36928     \n",
      "_________________________________________________________________\n",
      "max_pooling2d_2 (MaxPooling2 (None, 17, 17, 64)        0         \n",
      "_________________________________________________________________\n",
      "flatten (Flatten)            (None, 18496)             0         \n",
      "_________________________________________________________________\n",
      "dense (Dense)                (None, 128)               2367616   \n",
      "_________________________________________________________________\n",
      "dense_1 (Dense)              (None, 10)                1290      \n",
      "=================================================================\n",
      "Total params: 2,425,226\n",
      "Trainable params: 2,425,226\n",
      "Non-trainable params: 0\n",
      "_________________________________________________________________\n"
     ]
    }
   ],
   "source": [
    "model.summary()"
   ]
  },
  {
   "cell_type": "code",
   "execution_count": 9,
   "metadata": {},
   "outputs": [],
   "source": [
    "train_directory = '/home/amoghavarsha/Project_CNN/my_project_env/Dataset/training/training'\n",
    "validation_directory = '/home/amoghavarsha/Project_CNN/my_project_env/Dataset/validation/validation'"
   ]
  },
  {
   "cell_type": "code",
   "execution_count": 10,
   "metadata": {},
   "outputs": [
    {
     "name": "stdout",
     "output_type": "stream",
     "text": [
      "Found 1098 images belonging to 10 classes.\n"
     ]
    }
   ],
   "source": [
    "## Getting the training and the validation sets\n",
    "batch_size = 16\n",
    "train_gen = image_gen.flow_from_directory(train_directory,target_size=(150,150),batch_size=batch_size,\n",
    "                                         class_mode='categorical')"
   ]
  },
  {
   "cell_type": "code",
   "execution_count": 11,
   "metadata": {},
   "outputs": [
    {
     "name": "stdout",
     "output_type": "stream",
     "text": [
      "Found 272 images belonging to 10 classes.\n"
     ]
    }
   ],
   "source": [
    "validation_gen = image_gen.flow_from_directory(validation_directory,target_size=(150,150),batch_size=batch_size,\n",
    "                                         class_mode='categorical')"
   ]
  },
  {
   "cell_type": "markdown",
   "metadata": {},
   "source": [
    "## Training the Model"
   ]
  },
  {
   "cell_type": "code",
   "execution_count": 12,
   "metadata": {},
   "outputs": [],
   "source": [
    "import warnings\n",
    "warnings.filterwarnings('ignore')"
   ]
  },
  {
   "cell_type": "code",
   "execution_count": 13,
   "metadata": {},
   "outputs": [
    {
     "name": "stdout",
     "output_type": "stream",
     "text": [
      "Epoch 1/30\n",
      "68/68 [==============================] - 46s 671ms/step - loss: 2.2748 - accuracy: 0.1530 - val_loss: 1.9311 - val_accuracy: 0.3676\n",
      "Epoch 2/30\n",
      "68/68 [==============================] - 45s 654ms/step - loss: 1.8262 - accuracy: 0.3492 - val_loss: 1.5737 - val_accuracy: 0.4265\n",
      "Epoch 3/30\n",
      "68/68 [==============================] - 45s 652ms/step - loss: 1.4702 - accuracy: 0.4901 - val_loss: 1.3967 - val_accuracy: 0.4926\n",
      "Epoch 4/30\n",
      "68/68 [==============================] - 46s 673ms/step - loss: 1.2726 - accuracy: 0.5400 - val_loss: 1.2668 - val_accuracy: 0.5882\n",
      "Epoch 5/30\n",
      "68/68 [==============================] - 53s 773ms/step - loss: 1.2197 - accuracy: 0.5814 - val_loss: 1.2141 - val_accuracy: 0.5809\n",
      "Epoch 6/30\n",
      "68/68 [==============================] - 82s 1s/step - loss: 1.1422 - accuracy: 0.5990 - val_loss: 1.3968 - val_accuracy: 0.4779\n",
      "Epoch 7/30\n",
      "68/68 [==============================] - 79s 1s/step - loss: 1.0971 - accuracy: 0.6108 - val_loss: 1.2610 - val_accuracy: 0.5515\n",
      "Epoch 8/30\n",
      "68/68 [==============================] - 79s 1s/step - loss: 1.0428 - accuracy: 0.6586 - val_loss: 1.3327 - val_accuracy: 0.5846\n",
      "Epoch 9/30\n",
      "68/68 [==============================] - 82s 1s/step - loss: 0.9377 - accuracy: 0.6792 - val_loss: 1.3864 - val_accuracy: 0.5037\n",
      "Epoch 10/30\n",
      "68/68 [==============================] - 79s 1s/step - loss: 0.9547 - accuracy: 0.6758 - val_loss: 1.1479 - val_accuracy: 0.5956\n",
      "Epoch 11/30\n",
      "68/68 [==============================] - 80s 1s/step - loss: 0.8522 - accuracy: 0.6878 - val_loss: 1.2547 - val_accuracy: 0.5919\n",
      "Epoch 12/30\n",
      "68/68 [==============================] - 80s 1s/step - loss: 0.8787 - accuracy: 0.6985 - val_loss: 1.1065 - val_accuracy: 0.6691\n",
      "Epoch 13/30\n",
      "68/68 [==============================] - 81s 1s/step - loss: 0.7655 - accuracy: 0.7274 - val_loss: 1.0674 - val_accuracy: 0.6324\n",
      "Epoch 14/30\n",
      "68/68 [==============================] - 82s 1s/step - loss: 0.7226 - accuracy: 0.7387 - val_loss: 1.0807 - val_accuracy: 0.6287\n",
      "Epoch 15/30\n",
      "68/68 [==============================] - 79s 1s/step - loss: 0.7547 - accuracy: 0.7236 - val_loss: 1.0377 - val_accuracy: 0.6434\n",
      "Epoch 16/30\n",
      "68/68 [==============================] - 79s 1s/step - loss: 0.6833 - accuracy: 0.7661 - val_loss: 1.1868 - val_accuracy: 0.6250\n",
      "Epoch 17/30\n",
      "68/68 [==============================] - 78s 1s/step - loss: 0.6363 - accuracy: 0.7672 - val_loss: 1.0082 - val_accuracy: 0.6434\n",
      "Epoch 18/30\n",
      "68/68 [==============================] - 78s 1s/step - loss: 0.5342 - accuracy: 0.8143 - val_loss: 0.9374 - val_accuracy: 0.7132\n",
      "Epoch 19/30\n",
      "68/68 [==============================] - 80s 1s/step - loss: 0.5288 - accuracy: 0.8283 - val_loss: 1.0394 - val_accuracy: 0.6801\n",
      "Epoch 20/30\n",
      "68/68 [==============================] - 82s 1s/step - loss: 0.5626 - accuracy: 0.8263 - val_loss: 1.2622 - val_accuracy: 0.6213\n",
      "Epoch 21/30\n",
      "68/68 [==============================] - 79s 1s/step - loss: 0.4654 - accuracy: 0.8290 - val_loss: 0.9958 - val_accuracy: 0.6838\n",
      "Epoch 22/30\n",
      "68/68 [==============================] - 78s 1s/step - loss: 0.3697 - accuracy: 0.8776 - val_loss: 1.0281 - val_accuracy: 0.6691\n",
      "Epoch 23/30\n",
      "68/68 [==============================] - 78s 1s/step - loss: 0.5126 - accuracy: 0.8242 - val_loss: 1.1059 - val_accuracy: 0.6618\n",
      "Epoch 24/30\n",
      "68/68 [==============================] - 79s 1s/step - loss: 0.4556 - accuracy: 0.8587 - val_loss: 1.0761 - val_accuracy: 0.7096\n",
      "Epoch 25/30\n",
      "68/68 [==============================] - 78s 1s/step - loss: 0.3935 - accuracy: 0.8794 - val_loss: 0.9322 - val_accuracy: 0.7059\n",
      "Epoch 26/30\n",
      "68/68 [==============================] - 78s 1s/step - loss: 0.3954 - accuracy: 0.8676 - val_loss: 1.1328 - val_accuracy: 0.6875\n",
      "Epoch 27/30\n",
      "68/68 [==============================] - 78s 1s/step - loss: 0.3621 - accuracy: 0.8700 - val_loss: 1.1386 - val_accuracy: 0.6765\n",
      "Epoch 28/30\n",
      "68/68 [==============================] - 80s 1s/step - loss: 0.4118 - accuracy: 0.8651 - val_loss: 1.0404 - val_accuracy: 0.7132\n",
      "Epoch 29/30\n",
      "68/68 [==============================] - 79s 1s/step - loss: 0.3206 - accuracy: 0.8914 - val_loss: 1.0827 - val_accuracy: 0.7206\n",
      "Epoch 30/30\n",
      "68/68 [==============================] - 79s 1s/step - loss: 0.2732 - accuracy: 0.9050 - val_loss: 1.0767 - val_accuracy: 0.6728\n"
     ]
    }
   ],
   "source": [
    "results = model.fit_generator(train_gen,epochs=30,steps_per_epoch=1097//batch_size,\n",
    "                              validation_data=validation_gen,validation_steps=272//batch_size)"
   ]
  },
  {
   "cell_type": "code",
   "execution_count": 14,
   "metadata": {},
   "outputs": [],
   "source": [
    "model.save('CNN_Monkey.h5')"
   ]
  },
  {
   "cell_type": "code",
   "execution_count": 17,
   "metadata": {},
   "outputs": [],
   "source": [
    "_, acc = model.evaluate_generator(validation_gen, steps=272 //batch_size)"
   ]
  },
  {
   "cell_type": "code",
   "execution_count": 20,
   "metadata": {},
   "outputs": [
    {
     "name": "stdout",
     "output_type": "stream",
     "text": [
      "The testing accuracy for the CNN with the 10-Species-Monkey dataset is : 69.853\n"
     ]
    }
   ],
   "source": [
    "print('The testing accuracy for the CNN with the 10-Species-Monkey dataset is : %.3f' % (acc * 100.0))"
   ]
  },
  {
   "cell_type": "code",
   "execution_count": null,
   "metadata": {},
   "outputs": [],
   "source": []
  }
 ],
 "metadata": {
  "kernelspec": {
   "display_name": "Python 3",
   "language": "python",
   "name": "python3"
  },
  "language_info": {
   "codemirror_mode": {
    "name": "ipython",
    "version": 3
   },
   "file_extension": ".py",
   "mimetype": "text/x-python",
   "name": "python",
   "nbconvert_exporter": "python",
   "pygments_lexer": "ipython3",
   "version": "3.6.9"
  }
 },
 "nbformat": 4,
 "nbformat_minor": 4
}
