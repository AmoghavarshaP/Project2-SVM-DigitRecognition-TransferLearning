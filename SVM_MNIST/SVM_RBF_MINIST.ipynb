{
  "nbformat": 4,
  "nbformat_minor": 0,
  "metadata": {
    "colab": {
      "name": "SVM_RBF_MINIST.ipynb",
      "provenance": [],
      "collapsed_sections": []
    },
    "kernelspec": {
      "name": "python3",
      "display_name": "Python 3"
    },
    "accelerator": "GPU"
  },
  "cells": [
    {
      "cell_type": "code",
      "metadata": {
        "id": "_rNsu8AsfJyb"
      },
      "source": [
        "import matplotlib.pyplot as plt\n",
        "%matplotlib inline"
      ],
      "execution_count": 1,
      "outputs": []
    },
    {
      "cell_type": "code",
      "metadata": {
        "id": "pOh9DngzfaoE"
      },
      "source": [
        "import numpy as np"
      ],
      "execution_count": 2,
      "outputs": []
    },
    {
      "cell_type": "code",
      "metadata": {
        "id": "Pd4ZZAb-fhiq",
        "colab": {
          "base_uri": "https://localhost:8080/"
        },
        "outputId": "d0a9ede9-a5e4-4eaa-b791-ff17b3db4fc1"
      },
      "source": [
        "from keras.datasets import mnist\n",
        "\n",
        "(x_train,y_train) , (x_test,y_test) = mnist.load_data()"
      ],
      "execution_count": 3,
      "outputs": [
        {
          "output_type": "stream",
          "text": [
            "Downloading data from https://storage.googleapis.com/tensorflow/tf-keras-datasets/mnist.npz\n",
            "11493376/11490434 [==============================] - 0s 0us/step\n"
          ],
          "name": "stdout"
        }
      ]
    },
    {
      "cell_type": "code",
      "metadata": {
        "colab": {
          "base_uri": "https://localhost:8080/",
          "height": 282
        },
        "id": "_SaSmd5JfjRU",
        "outputId": "4eae1409-c90a-44aa-f5af-4598aa674b81"
      },
      "source": [
        "single_image = x_train[0]\n",
        "plt.imshow(single_image,cmap='gray_r')"
      ],
      "execution_count": 4,
      "outputs": [
        {
          "output_type": "execute_result",
          "data": {
            "text/plain": [
              "<matplotlib.image.AxesImage at 0x7facfa26ba90>"
            ]
          },
          "metadata": {
            "tags": []
          },
          "execution_count": 4
        },
        {
          "output_type": "display_data",
          "data": {
            "image/png": "[encoded data removed]",
            "text/plain": [
              "<Figure size 432x288 with 1 Axes>"
            ]
          },
          "metadata": {
            "tags": [],
            "needs_background": "light"
          }
        }
      ]
    },
    {
      "cell_type": "code",
      "metadata": {
        "id": "89pSLk-Vftks"
      },
      "source": [
        "## Data Preprocessing and normalizing the data between 0 and 1\n",
        "x_train = x_train.reshape(60000,784)\n",
        "x_train = x_train/255\n",
        "x_test = x_test.reshape(10000,784)\n",
        "x_test = x_test/255"
      ],
      "execution_count": 5,
      "outputs": []
    },
    {
      "cell_type": "code",
      "metadata": {
        "id": "v_ygUsV6lwqn"
      },
      "source": [
        "from sklearn.preprocessing import StandardScaler\n"
      ],
      "execution_count": 6,
      "outputs": []
    },
    {
      "cell_type": "code",
      "metadata": {
        "id": "GNNfSA9-lgID"
      },
      "source": [
        "s = StandardScaler()\n"
      ],
      "execution_count": 7,
      "outputs": []
    },
    {
      "cell_type": "code",
      "metadata": {
        "id": "DPRaSQ6NlrxW"
      },
      "source": [
        "x_train = s.fit_transform(x_train)\n",
        "x_test  = s.fit_transform(x_test)"
      ],
      "execution_count": 8,
      "outputs": []
    },
    {
      "cell_type": "markdown",
      "metadata": {
        "id": "FEZZO892l1LU"
      },
      "source": [
        "## Kernel SVM-RBF:"
      ]
    },
    {
      "cell_type": "code",
      "metadata": {
        "id": "4QXFfQak5au4"
      },
      "source": [
        "from sklearn.svm import SVC "
      ],
      "execution_count": 9,
      "outputs": []
    },
    {
      "cell_type": "code",
      "metadata": {
        "id": "qASFM46d6BfG"
      },
      "source": [
        "model = SVC(C=1,kernel='rbf')"
      ],
      "execution_count": 10,
      "outputs": []
    },
    {
      "cell_type": "code",
      "metadata": {
        "id": "V5zrhllh7FeA",
        "colab": {
          "base_uri": "https://localhost:8080/"
        },
        "outputId": "3d1c82f2-24e8-47fe-bd33-c36c635f1597"
      },
      "source": [
        "model.fit(x_train,y_train)"
      ],
      "execution_count": 11,
      "outputs": [
        {
          "output_type": "execute_result",
          "data": {
            "text/plain": [
              "SVC(C=1, break_ties=False, cache_size=200, class_weight=None, coef0=0.0,\n",
              "    decision_function_shape='ovr', degree=3, gamma='scale', kernel='rbf',\n",
              "    max_iter=-1, probability=False, random_state=None, shrinking=True,\n",
              "    tol=0.001, verbose=False)"
            ]
          },
          "metadata": {
            "tags": []
          },
          "execution_count": 11
        }
      ]
    },
    {
      "cell_type": "code",
      "metadata": {
        "id": "71FJevpt7blE"
      },
      "source": [
        "from sklearn.metrics import classification_report, accuracy_score, confusion_matrix"
      ],
      "execution_count": 12,
      "outputs": []
    },
    {
      "cell_type": "code",
      "metadata": {
        "id": "e3xjYw1j-hfR"
      },
      "source": [
        "predictions = model.predict(x_test)"
      ],
      "execution_count": 13,
      "outputs": []
    },
    {
      "cell_type": "code",
      "metadata": {
        "colab": {
          "base_uri": "https://localhost:8080/"
        },
        "id": "pMATbjvx-x8v",
        "outputId": "521ce4ee-6bac-493b-882e-c768ee419a9e"
      },
      "source": [
        "print(\"\\nTesting Accuracy = \", accuracy_score(y_true=y_test, y_pred=predictions))"
      ],
      "execution_count": 14,
      "outputs": [
        {
          "output_type": "stream",
          "text": [
            "\n",
            "Testing Accuracy =  0.9656\n"
          ],
          "name": "stdout"
        }
      ]
    },
    {
      "cell_type": "code",
      "metadata": {
        "colab": {
          "base_uri": "https://localhost:8080/"
        },
        "id": "z5TyWDUM_P4J",
        "outputId": "c4044355-d096-4e90-cd21-35d206ae09be"
      },
      "source": [
        "print(classification_report(y_test,predictions))"
      ],
      "execution_count": 15,
      "outputs": [
        {
          "output_type": "stream",
          "text": [
            "              precision    recall  f1-score   support\n",
            "\n",
            "           0       0.98      0.99      0.98       980\n",
            "           1       0.99      0.99      0.99      1135\n",
            "           2       0.95      0.97      0.96      1032\n",
            "           3       0.97      0.97      0.97      1010\n",
            "           4       0.97      0.96      0.97       982\n",
            "           5       0.96      0.96      0.96       892\n",
            "           6       0.98      0.97      0.97       958\n",
            "           7       0.93      0.96      0.94      1028\n",
            "           8       0.96      0.95      0.96       974\n",
            "           9       0.97      0.94      0.95      1009\n",
            "\n",
            "    accuracy                           0.97     10000\n",
            "   macro avg       0.97      0.97      0.97     10000\n",
            "weighted avg       0.97      0.97      0.97     10000\n",
            "\n"
          ],
          "name": "stdout"
        }
      ]
    },
    {
      "cell_type": "code",
      "metadata": {
        "colab": {
          "base_uri": "https://localhost:8080/"
        },
        "id": "28xeJN-VATtR",
        "outputId": "1403aec0-393b-42e1-d44d-2b87f2689934"
      },
      "source": [
        "print(confusion_matrix(y_test,predictions))"
      ],
      "execution_count": 16,
      "outputs": [
        {
          "output_type": "stream",
          "text": [
            "[[ 967    0    2    1    0    3    3    2    2    0]\n",
            " [   0 1125    5    0    0    1    2    0    2    0]\n",
            " [   5    1  996    2    2    0    1   15    9    1]\n",
            " [   0    0    3  980    1    7    0   12    7    0]\n",
            " [   0    0   13    0  945    2    3    7    2   10]\n",
            " [   2    0    2   11    1  857    6    5    6    2]\n",
            " [   6    2    0    0    4    8  927    6    5    0]\n",
            " [   1    6   13    3    3    0    0  989    0   13]\n",
            " [   3    0    6    5    6   10    3   12  926    3]\n",
            " [   4    5    6   11   13    2    0   21    3  944]]\n"
          ],
          "name": "stdout"
        }
      ]
    },
    {
      "cell_type": "markdown",
      "metadata": {
        "id": "XoKn42MzGggq"
      },
      "source": [
        "## Kernel SVM-RBF with PCA"
      ]
    },
    {
      "cell_type": "code",
      "metadata": {
        "id": "heIH-z1n_2rt"
      },
      "source": [
        "x_train_PCA = x_train\n",
        "x_test_PCA = x_test"
      ],
      "execution_count": 17,
      "outputs": []
    },
    {
      "cell_type": "code",
      "metadata": {
        "id": "X7M-DWnWAq5i"
      },
      "source": [
        "## Applying PCA on the Dataset\n",
        "from sklearn.decomposition import PCA"
      ],
      "execution_count": 18,
      "outputs": []
    },
    {
      "cell_type": "code",
      "metadata": {
        "id": "oYQ3NWSBA2tS"
      },
      "source": [
        "pca = PCA(n_components=0.97)        # Should lie between 0.95 to 0.99\n",
        "x_train_PCA = pca.fit_transform(x_train_PCA)  \n",
        "x_test_PCA = pca.transform(x_test_PCA)"
      ],
      "execution_count": 20,
      "outputs": []
    },
    {
      "cell_type": "code",
      "metadata": {
        "id": "xVf9MjptBLZQ"
      },
      "source": [
        " model_PCA = SVC(C=1,kernel='rbf')"
      ],
      "execution_count": 21,
      "outputs": []
    },
    {
      "cell_type": "code",
      "metadata": {
        "id": "WgDt9ZgjBv1V",
        "colab": {
          "base_uri": "https://localhost:8080/"
        },
        "outputId": "9ad32ea6-4624-46e9-d59f-38a40ee66771"
      },
      "source": [
        "model_PCA.fit(x_train_PCA,y_train)"
      ],
      "execution_count": 22,
      "outputs": [
        {
          "output_type": "execute_result",
          "data": {
            "text/plain": [
              "SVC(C=1, break_ties=False, cache_size=200, class_weight=None, coef0=0.0,\n",
              "    decision_function_shape='ovr', degree=3, gamma='scale', kernel='rbf',\n",
              "    max_iter=-1, probability=False, random_state=None, shrinking=True,\n",
              "    tol=0.001, verbose=False)"
            ]
          },
          "metadata": {
            "tags": []
          },
          "execution_count": 22
        }
      ]
    },
    {
      "cell_type": "code",
      "metadata": {
        "id": "ZWRtJWcRBhR3"
      },
      "source": [
        "predictions_PCA = model_PCA.predict(x_test_PCA)"
      ],
      "execution_count": 23,
      "outputs": []
    },
    {
      "cell_type": "code",
      "metadata": {
        "id": "j1ZFTF2FCKQK",
        "colab": {
          "base_uri": "https://localhost:8080/"
        },
        "outputId": "b323310d-943c-4499-b453-0170b546b7d7"
      },
      "source": [
        "print(\"\\nTesting Accuracy = \", accuracy_score(y_true=y_test, y_pred=predictions_PCA))"
      ],
      "execution_count": 24,
      "outputs": [
        {
          "output_type": "stream",
          "text": [
            "\n",
            "Testing Accuracy =  0.9685\n"
          ],
          "name": "stdout"
        }
      ]
    },
    {
      "cell_type": "code",
      "metadata": {
        "id": "9rnh0fusCSs8",
        "colab": {
          "base_uri": "https://localhost:8080/"
        },
        "outputId": "213c1d13-c6be-4704-ce7c-409b458aca02"
      },
      "source": [
        "print(classification_report(y_test,predictions_PCA))"
      ],
      "execution_count": 25,
      "outputs": [
        {
          "output_type": "stream",
          "text": [
            "              precision    recall  f1-score   support\n",
            "\n",
            "           0       0.98      0.99      0.98       980\n",
            "           1       0.99      0.99      0.99      1135\n",
            "           2       0.96      0.97      0.96      1032\n",
            "           3       0.97      0.97      0.97      1010\n",
            "           4       0.97      0.96      0.97       982\n",
            "           5       0.97      0.96      0.96       892\n",
            "           6       0.98      0.97      0.98       958\n",
            "           7       0.93      0.97      0.95      1028\n",
            "           8       0.96      0.96      0.96       974\n",
            "           9       0.97      0.94      0.96      1009\n",
            "\n",
            "    accuracy                           0.97     10000\n",
            "   macro avg       0.97      0.97      0.97     10000\n",
            "weighted avg       0.97      0.97      0.97     10000\n",
            "\n"
          ],
          "name": "stdout"
        }
      ]
    },
    {
      "cell_type": "code",
      "metadata": {
        "id": "lfZGCkl-CYTJ",
        "colab": {
          "base_uri": "https://localhost:8080/"
        },
        "outputId": "21696dc4-3e0c-4cbc-d16d-0660c2d4988f"
      },
      "source": [
        "print(confusion_matrix(y_test,predictions_PCA))"
      ],
      "execution_count": 26,
      "outputs": [
        {
          "output_type": "stream",
          "text": [
            "[[ 968    0    1    1    0    3    3    2    2    0]\n",
            " [   0 1128    3    0    0    1    1    0    2    0]\n",
            " [   5    1  997    2    1    0    1   15    9    1]\n",
            " [   0    0    3  982    1    6    0   11    7    0]\n",
            " [   0    0   10    0  947    2    3    8    2   10]\n",
            " [   2    0    1    9    1  860    6    5    6    2]\n",
            " [   6    2    0    0    4    8  930    5    3    0]\n",
            " [   2    7   11    2    1    0    0  994    1   10]\n",
            " [   3    0    4    5    6    9    3   11  931    2]\n",
            " [   4    5    6    9   12    2    0   19    4  948]]\n"
          ],
          "name": "stdout"
        }
      ]
    },
    {
      "cell_type": "markdown",
      "metadata": {
        "id": "SjbWjmGjCf_L"
      },
      "source": [
        "## Kernel SVM-RBF with LDA"
      ]
    },
    {
      "cell_type": "code",
      "metadata": {
        "id": "RJG8USoACvEV"
      },
      "source": [
        "x_train_LDA = x_train\n",
        "x_test_LDA = x_test"
      ],
      "execution_count": 27,
      "outputs": []
    },
    {
      "cell_type": "code",
      "metadata": {
        "id": "1ow2rKIuCmNl"
      },
      "source": [
        "from sklearn.discriminant_analysis import LinearDiscriminantAnalysis as LDA"
      ],
      "execution_count": 28,
      "outputs": []
    },
    {
      "cell_type": "code",
      "metadata": {
        "id": "9MxUTn95CsVR"
      },
      "source": [
        "  lda = LDA(n_components=9)\n",
        "  x_train_LDA = lda.fit_transform(x_train_LDA,y_train)  \n",
        "  x_test_LDA = lda.transform(x_test_LDA)"
      ],
      "execution_count": 29,
      "outputs": []
    },
    {
      "cell_type": "code",
      "metadata": {
        "id": "31-xdAlIC4QH"
      },
      "source": [
        "model_LDA = SVC(C=1,kernel='rbf')"
      ],
      "execution_count": 30,
      "outputs": []
    },
    {
      "cell_type": "code",
      "metadata": {
        "colab": {
          "base_uri": "https://localhost:8080/"
        },
        "id": "vI7O0glvNPGr",
        "outputId": "d1393b61-2d84-47df-cb42-e58146fc5c79"
      },
      "source": [
        "model_LDA.fit(x_test_LDA,y_test)"
      ],
      "execution_count": 31,
      "outputs": [
        {
          "output_type": "execute_result",
          "data": {
            "text/plain": [
              "SVC(C=1, break_ties=False, cache_size=200, class_weight=None, coef0=0.0,\n",
              "    decision_function_shape='ovr', degree=3, gamma='scale', kernel='rbf',\n",
              "    max_iter=-1, probability=False, random_state=None, shrinking=True,\n",
              "    tol=0.001, verbose=False)"
            ]
          },
          "metadata": {
            "tags": []
          },
          "execution_count": 31
        }
      ]
    },
    {
      "cell_type": "code",
      "metadata": {
        "id": "qOylg2nsDG2o"
      },
      "source": [
        "predictions_LDA = model_LDA.predict(x_test_LDA)"
      ],
      "execution_count": 33,
      "outputs": []
    },
    {
      "cell_type": "code",
      "metadata": {
        "id": "peQ__zmlDVtq",
        "colab": {
          "base_uri": "https://localhost:8080/"
        },
        "outputId": "6b8f6bf9-dcc4-46a0-f220-ff07028f62ec"
      },
      "source": [
        "print(\"\\nTesting Accuracy = \", accuracy_score(y_true=y_test, y_pred=predictions_LDA))"
      ],
      "execution_count": 34,
      "outputs": [
        {
          "output_type": "stream",
          "text": [
            "\n",
            "Testing Accuracy =  0.9207\n"
          ],
          "name": "stdout"
        }
      ]
    },
    {
      "cell_type": "code",
      "metadata": {
        "id": "gUbhI0xqDYYA",
        "colab": {
          "base_uri": "https://localhost:8080/"
        },
        "outputId": "cb728b0d-4f4d-4a02-c915-1e99c3679670"
      },
      "source": [
        "print(classification_report(y_test,predictions_LDA))"
      ],
      "execution_count": 35,
      "outputs": [
        {
          "output_type": "stream",
          "text": [
            "              precision    recall  f1-score   support\n",
            "\n",
            "           0       0.96      0.97      0.97       980\n",
            "           1       0.95      0.97      0.96      1135\n",
            "           2       0.92      0.93      0.92      1032\n",
            "           3       0.90      0.89      0.90      1010\n",
            "           4       0.92      0.93      0.92       982\n",
            "           5       0.89      0.88      0.89       892\n",
            "           6       0.94      0.95      0.95       958\n",
            "           7       0.94      0.91      0.93      1028\n",
            "           8       0.87      0.87      0.87       974\n",
            "           9       0.90      0.89      0.90      1009\n",
            "\n",
            "    accuracy                           0.92     10000\n",
            "   macro avg       0.92      0.92      0.92     10000\n",
            "weighted avg       0.92      0.92      0.92     10000\n",
            "\n"
          ],
          "name": "stdout"
        }
      ]
    },
    {
      "cell_type": "code",
      "metadata": {
        "id": "lkHKq9xuDeMZ",
        "colab": {
          "base_uri": "https://localhost:8080/"
        },
        "outputId": "089bc4e8-a3ca-4d0c-a04c-90545b97daec"
      },
      "source": [
        "print(confusion_matrix(y_test,predictions_LDA))"
      ],
      "execution_count": 36,
      "outputs": [
        {
          "output_type": "stream",
          "text": [
            "[[ 955    0    3    2    0    4    9    1    6    0]\n",
            " [   0 1104    7    2    1    1    3    1   16    0]\n",
            " [   7    5  955   13    9    3   12    7   19    2]\n",
            " [   3    3   23  901    1   34    0   14   23    8]\n",
            " [   0    0    4    0  910    0   16    3    9   40]\n",
            " [   8    2    7   38    6  786    9    3   31    2]\n",
            " [  10    3    7    0    6   16  911    0    5    0]\n",
            " [   1   14   19    6    6    0    1  940    1   40]\n",
            " [   5   26   12   26   13   31    4    7  844    6]\n",
            " [   8    3    2   13   41    4    2   23   12  901]]\n"
          ],
          "name": "stdout"
        }
      ]
    },
    {
      "cell_type": "code",
      "metadata": {
        "id": "eH2arKdvWFB5"
      },
      "source": [
        ""
      ],
      "execution_count": null,
      "outputs": []
    }
  ]
}