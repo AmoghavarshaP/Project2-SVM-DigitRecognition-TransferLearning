{
 "cells": [
  {
   "cell_type": "code",
   "execution_count": 1,
   "metadata": {},
   "outputs": [],
   "source": [
    "##The premise of this project is for the implementation a CNN with VGG-16 as a feature selector \n",
    "import matplotlib.pyplot as plt\n",
    "%matplotlib inline"
   ]
  },
  {
   "cell_type": "code",
   "execution_count": 2,
   "metadata": {},
   "outputs": [],
   "source": [
    "#Create an ImageGenerator object that is used to randomize and make certain small transformations to the image\n",
    "#to build better and robust networks\n",
    "\n",
    "from keras.preprocessing.image import ImageDataGenerator"
   ]
  },
  {
   "cell_type": "code",
   "execution_count": 3,
   "metadata": {},
   "outputs": [],
   "source": [
    "image_gen = ImageDataGenerator(rotation_range=30,\n",
    "                              width_shift_range=0.1,\n",
    "                              height_shift_range=0.1,\n",
    "                              rescale=1/255,\n",
    "                              zoom_range=0.2,\n",
    "                              shear_range=0.2,\n",
    "                              fill_mode='nearest')"
   ]
  },
  {
   "cell_type": "markdown",
   "metadata": {},
   "source": [
    "## Model:\n"
   ]
  },
  {
   "cell_type": "code",
   "execution_count": 4,
   "metadata": {},
   "outputs": [],
   "source": [
    "from keras.applications import vgg16\n",
    "from keras.models import Sequential\n",
    "from keras.layers import Dense,Dropout,Flatten,Conv2D,MaxPooling2D\n",
    "from keras import optimizers"
   ]
  },
  {
   "cell_type": "code",
   "execution_count": 5,
   "metadata": {},
   "outputs": [
    {
     "name": "stdout",
     "output_type": "stream",
     "text": [
      "<tensorflow.python.keras.engine.input_layer.InputLayer object at 0x7f4a0a35bdd8> False\n",
      "<tensorflow.python.keras.layers.convolutional.Conv2D object at 0x7f4a09c60470> False\n",
      "<tensorflow.python.keras.layers.convolutional.Conv2D object at 0x7f4a09c60fd0> False\n",
      "<tensorflow.python.keras.layers.pooling.MaxPooling2D object at 0x7f4a083e0780> False\n",
      "<tensorflow.python.keras.layers.convolutional.Conv2D object at 0x7f4a083e8828> False\n",
      "<tensorflow.python.keras.layers.convolutional.Conv2D object at 0x7f4a083ee668> False\n",
      "<tensorflow.python.keras.layers.pooling.MaxPooling2D object at 0x7f4a083ee588> False\n",
      "<tensorflow.python.keras.layers.convolutional.Conv2D object at 0x7f4a083f8ac8> False\n",
      "<tensorflow.python.keras.layers.convolutional.Conv2D object at 0x7f4a083fca58> False\n",
      "<tensorflow.python.keras.layers.convolutional.Conv2D object at 0x7f4a083fc0f0> False\n",
      "<tensorflow.python.keras.layers.pooling.MaxPooling2D object at 0x7f4a08406390> False\n",
      "<tensorflow.python.keras.layers.convolutional.Conv2D object at 0x7f4a0840a860> False\n",
      "<tensorflow.python.keras.layers.convolutional.Conv2D object at 0x7f4a083eeef0> False\n",
      "<tensorflow.python.keras.layers.convolutional.Conv2D object at 0x7f4a08406be0> False\n",
      "<tensorflow.python.keras.layers.pooling.MaxPooling2D object at 0x7f4a0943a908> False\n",
      "<tensorflow.python.keras.layers.convolutional.Conv2D object at 0x7f4a0840eef0> True\n",
      "<tensorflow.python.keras.layers.convolutional.Conv2D object at 0x7f4a0a4b1748> True\n",
      "<tensorflow.python.keras.layers.convolutional.Conv2D object at 0x7f4a0a4ec550> True\n",
      "<tensorflow.python.keras.layers.pooling.MaxPooling2D object at 0x7f4a0a4e3978> True\n",
      "<tensorflow.python.keras.layers.pooling.GlobalMaxPooling2D object at 0x7f4a0a52eef0> True\n"
     ]
    }
   ],
   "source": [
    "model = vgg16.VGG16(weights='imagenet', include_top=False, \n",
    "                    input_shape=(150,150,3), pooling=\"max\")\n",
    "\n",
    "for layer in model.layers[:-5]:\n",
    "        layer.trainable = False\n",
    "\n",
    "for layer in model.layers:\n",
    "    print(layer, layer.trainable)\n",
    "\n",
    "\n",
    "transfer_model = Sequential()\n",
    "for layer in model.layers:\n",
    "    transfer_model.add(layer)\n",
    "transfer_model.add(Dense(128, activation=\"relu\"))  \n",
    "transfer_model.add(Dropout(0.5))\n",
    "transfer_model.add(Dense(10, activation=\"softmax\")) \n",
    "\n",
    "adam = optimizers.Adam(lr=0.0001, beta_1=0.9, beta_2=0.999, epsilon=1e-08, decay=0.00001)\n",
    "\n",
    "transfer_model.compile(loss=\"categorical_crossentropy\",\n",
    "                      optimizer=adam,\n",
    "                      metrics=[\"accuracy\"])"
   ]
  },
  {
   "cell_type": "code",
   "execution_count": 6,
   "metadata": {},
   "outputs": [
    {
     "name": "stdout",
     "output_type": "stream",
     "text": [
      "Model: \"sequential\"\n",
      "_________________________________________________________________\n",
      "Layer (type)                 Output Shape              Param #   \n",
      "=================================================================\n",
      "block1_conv1 (Conv2D)        (None, 150, 150, 64)      1792      \n",
      "_________________________________________________________________\n",
      "block1_conv2 (Conv2D)        (None, 150, 150, 64)      36928     \n",
      "_________________________________________________________________\n",
      "block1_pool (MaxPooling2D)   (None, 75, 75, 64)        0         \n",
      "_________________________________________________________________\n",
      "block2_conv1 (Conv2D)        (None, 75, 75, 128)       73856     \n",
      "_________________________________________________________________\n",
      "block2_conv2 (Conv2D)        (None, 75, 75, 128)       147584    \n",
      "_________________________________________________________________\n",
      "block2_pool (MaxPooling2D)   (None, 37, 37, 128)       0         \n",
      "_________________________________________________________________\n",
      "block3_conv1 (Conv2D)        (None, 37, 37, 256)       295168    \n",
      "_________________________________________________________________\n",
      "block3_conv2 (Conv2D)        (None, 37, 37, 256)       590080    \n",
      "_________________________________________________________________\n",
      "block3_conv3 (Conv2D)        (None, 37, 37, 256)       590080    \n",
      "_________________________________________________________________\n",
      "block3_pool (MaxPooling2D)   (None, 18, 18, 256)       0         \n",
      "_________________________________________________________________\n",
      "block4_conv1 (Conv2D)        (None, 18, 18, 512)       1180160   \n",
      "_________________________________________________________________\n",
      "block4_conv2 (Conv2D)        (None, 18, 18, 512)       2359808   \n",
      "_________________________________________________________________\n",
      "block4_conv3 (Conv2D)        (None, 18, 18, 512)       2359808   \n",
      "_________________________________________________________________\n",
      "block4_pool (MaxPooling2D)   (None, 9, 9, 512)         0         \n",
      "_________________________________________________________________\n",
      "block5_conv1 (Conv2D)        (None, 9, 9, 512)         2359808   \n",
      "_________________________________________________________________\n",
      "block5_conv2 (Conv2D)        (None, 9, 9, 512)         2359808   \n",
      "_________________________________________________________________\n",
      "block5_conv3 (Conv2D)        (None, 9, 9, 512)         2359808   \n",
      "_________________________________________________________________\n",
      "block5_pool (MaxPooling2D)   (None, 4, 4, 512)         0         \n",
      "_________________________________________________________________\n",
      "global_max_pooling2d (Global (None, 512)               0         \n",
      "_________________________________________________________________\n",
      "dense (Dense)                (None, 128)               65664     \n",
      "_________________________________________________________________\n",
      "dropout (Dropout)            (None, 128)               0         \n",
      "_________________________________________________________________\n",
      "dense_1 (Dense)              (None, 10)                1290      \n",
      "=================================================================\n",
      "Total params: 14,781,642\n",
      "Trainable params: 7,146,378\n",
      "Non-trainable params: 7,635,264\n",
      "_________________________________________________________________\n"
     ]
    }
   ],
   "source": [
    "transfer_model.summary()\n"
   ]
  },
  {
   "cell_type": "code",
   "execution_count": 7,
   "metadata": {},
   "outputs": [],
   "source": [
    "train_directory = '/home/amoghavarsha/Project_CNN/my_project_env/Dataset/training/training'\n",
    "validation_directory = '/home/amoghavarsha/Project_CNN/my_project_env/Dataset/validation/validation'"
   ]
  },
  {
   "cell_type": "code",
   "execution_count": 8,
   "metadata": {},
   "outputs": [
    {
     "name": "stdout",
     "output_type": "stream",
     "text": [
      "Found 1098 images belonging to 10 classes.\n"
     ]
    }
   ],
   "source": [
    "## Getting the training and the validation sets\n",
    "batch_size = 16\n",
    "train_gen = image_gen.flow_from_directory(train_directory,target_size=(150,150),batch_size=batch_size,\n",
    "                                         class_mode='categorical')"
   ]
  },
  {
   "cell_type": "code",
   "execution_count": 9,
   "metadata": {},
   "outputs": [
    {
     "name": "stdout",
     "output_type": "stream",
     "text": [
      "Found 272 images belonging to 10 classes.\n"
     ]
    }
   ],
   "source": [
    "validation_gen = image_gen.flow_from_directory(validation_directory,target_size=(150,150),batch_size=batch_size,\n",
    "                                         class_mode='categorical')"
   ]
  },
  {
   "cell_type": "code",
   "execution_count": 10,
   "metadata": {
    "scrolled": true
   },
   "outputs": [
    {
     "name": "stderr",
     "output_type": "stream",
     "text": [
      "/home/amoghavarsha/Project_CNN/my_project_env/lib/python3.6/site-packages/tensorflow/python/keras/engine/training.py:1844: UserWarning: `Model.fit_generator` is deprecated and will be removed in a future version. Please use `Model.fit`, which supports generators.\n",
      "  warnings.warn('`Model.fit_generator` is deprecated and '\n"
     ]
    },
    {
     "name": "stdout",
     "output_type": "stream",
     "text": [
      "Epoch 1/30\n",
      "68/68 [==============================] - 165s 2s/step - loss: 2.4974 - accuracy: 0.1274 - val_loss: 1.7619 - val_accuracy: 0.5147\n",
      "Epoch 2/30\n",
      "68/68 [==============================] - 168s 2s/step - loss: 1.6735 - accuracy: 0.4356 - val_loss: 1.0746 - val_accuracy: 0.7463\n",
      "Epoch 3/30\n",
      "68/68 [==============================] - 159s 2s/step - loss: 1.1560 - accuracy: 0.6033 - val_loss: 0.8481 - val_accuracy: 0.7500\n",
      "Epoch 4/30\n",
      "68/68 [==============================] - 152s 2s/step - loss: 0.8084 - accuracy: 0.7313 - val_loss: 0.7492 - val_accuracy: 0.7500\n",
      "Epoch 5/30\n",
      "68/68 [==============================] - 151s 2s/step - loss: 0.5892 - accuracy: 0.7983 - val_loss: 0.6260 - val_accuracy: 0.8199\n",
      "Epoch 6/30\n",
      "68/68 [==============================] - 154s 2s/step - loss: 0.4025 - accuracy: 0.8705 - val_loss: 0.4992 - val_accuracy: 0.8493\n",
      "Epoch 7/30\n",
      "68/68 [==============================] - 156s 2s/step - loss: 0.3479 - accuracy: 0.8828 - val_loss: 0.5187 - val_accuracy: 0.8566\n",
      "Epoch 8/30\n",
      "68/68 [==============================] - 163s 2s/step - loss: 0.2388 - accuracy: 0.9304 - val_loss: 0.5549 - val_accuracy: 0.8640\n",
      "Epoch 9/30\n",
      "68/68 [==============================] - 150s 2s/step - loss: 0.2546 - accuracy: 0.9195 - val_loss: 0.5703 - val_accuracy: 0.8493\n",
      "Epoch 10/30\n",
      "68/68 [==============================] - 150s 2s/step - loss: 0.1769 - accuracy: 0.9388 - val_loss: 0.5166 - val_accuracy: 0.8640\n",
      "Epoch 11/30\n",
      "68/68 [==============================] - 150s 2s/step - loss: 0.1953 - accuracy: 0.9391 - val_loss: 0.6167 - val_accuracy: 0.8676\n",
      "Epoch 12/30\n",
      "68/68 [==============================] - 149s 2s/step - loss: 0.1865 - accuracy: 0.9447 - val_loss: 0.4461 - val_accuracy: 0.8713\n",
      "Epoch 13/30\n",
      "68/68 [==============================] - 150s 2s/step - loss: 0.1171 - accuracy: 0.9691 - val_loss: 0.5700 - val_accuracy: 0.8529\n",
      "Epoch 14/30\n",
      "68/68 [==============================] - 149s 2s/step - loss: 0.1053 - accuracy: 0.9616 - val_loss: 0.5070 - val_accuracy: 0.8640\n",
      "Epoch 15/30\n",
      "68/68 [==============================] - 149s 2s/step - loss: 0.0936 - accuracy: 0.9731 - val_loss: 0.5993 - val_accuracy: 0.8676\n",
      "Epoch 16/30\n",
      "68/68 [==============================] - 149s 2s/step - loss: 0.0684 - accuracy: 0.9846 - val_loss: 0.6169 - val_accuracy: 0.8824\n",
      "Epoch 17/30\n",
      "68/68 [==============================] - 149s 2s/step - loss: 0.1278 - accuracy: 0.9643 - val_loss: 0.4968 - val_accuracy: 0.8750\n",
      "Epoch 18/30\n",
      "68/68 [==============================] - 149s 2s/step - loss: 0.0926 - accuracy: 0.9733 - val_loss: 0.5889 - val_accuracy: 0.8529\n",
      "Epoch 19/30\n",
      "68/68 [==============================] - 149s 2s/step - loss: 0.0569 - accuracy: 0.9862 - val_loss: 0.4525 - val_accuracy: 0.8676\n",
      "Epoch 20/30\n",
      "68/68 [==============================] - 153s 2s/step - loss: 0.0841 - accuracy: 0.9800 - val_loss: 0.6886 - val_accuracy: 0.8346\n",
      "Epoch 21/30\n",
      "68/68 [==============================] - 152s 2s/step - loss: 0.1031 - accuracy: 0.9631 - val_loss: 0.6712 - val_accuracy: 0.8493\n",
      "Epoch 22/30\n",
      "68/68 [==============================] - 150s 2s/step - loss: 0.0310 - accuracy: 0.9938 - val_loss: 0.7142 - val_accuracy: 0.8676\n",
      "Epoch 23/30\n",
      "68/68 [==============================] - 160s 2s/step - loss: 0.0383 - accuracy: 0.9897 - val_loss: 0.6673 - val_accuracy: 0.8529\n",
      "Epoch 24/30\n",
      "68/68 [==============================] - 161s 2s/step - loss: 0.0631 - accuracy: 0.9848 - val_loss: 0.8418 - val_accuracy: 0.8088\n",
      "Epoch 25/30\n",
      "68/68 [==============================] - 156s 2s/step - loss: 0.0305 - accuracy: 0.9956 - val_loss: 0.5538 - val_accuracy: 0.8529\n",
      "Epoch 26/30\n",
      "68/68 [==============================] - 150s 2s/step - loss: 0.0379 - accuracy: 0.9920 - val_loss: 0.5651 - val_accuracy: 0.8750\n",
      "Epoch 27/30\n",
      "68/68 [==============================] - 159s 2s/step - loss: 0.0387 - accuracy: 0.9916 - val_loss: 0.5727 - val_accuracy: 0.8787\n",
      "Epoch 28/30\n",
      "68/68 [==============================] - 156s 2s/step - loss: 0.0772 - accuracy: 0.9776 - val_loss: 0.6754 - val_accuracy: 0.8346\n",
      "Epoch 29/30\n",
      "68/68 [==============================] - 163s 2s/step - loss: 0.0823 - accuracy: 0.9838 - val_loss: 0.4672 - val_accuracy: 0.8824\n",
      "Epoch 30/30\n",
      "68/68 [==============================] - 155s 2s/step - loss: 0.0343 - accuracy: 0.9894 - val_loss: 0.6437 - val_accuracy: 0.8456\n"
     ]
    }
   ],
   "source": [
    "results = transfer_model.fit_generator(train_gen,epochs=30,steps_per_epoch=1097//batch_size,\n",
    "                              validation_data=validation_gen,validation_steps=272//batch_size)"
   ]
  },
  {
   "cell_type": "code",
   "execution_count": 11,
   "metadata": {},
   "outputs": [
    {
     "data": {
      "text/plain": [
       "Text(0.5, 1.0, 'Training Vs Validation')"
      ]
     },
     "execution_count": 11,
     "metadata": {},
     "output_type": "execute_result"
    },
    {
     "data": {
      "image/png": "[encoded data removed]",
      "text/plain": [
       "<Figure size 1080x360 with 1 Axes>"
      ]
     },
     "metadata": {
      "needs_background": "light"
     },
     "output_type": "display_data"
    }
   ],
   "source": [
    "plt.figure(figsize=(15,5))\n",
    "plt.plot(results.history['accuracy'],'r',label='Training Accuracy')\n",
    "plt.plot(results.history['val_accuracy'],'b',label='Validation Accuracy')\n",
    "plt.xlabel('epochs')\n",
    "plt.ylabel('accuracy')\n",
    "plt.legend(loc='lower right')\n",
    "plt.title('Training Vs Validation')"
   ]
  },
  {
   "cell_type": "code",
   "execution_count": 12,
   "metadata": {},
   "outputs": [
    {
     "data": {
      "text/plain": [
       "Text(0.5, 1.0, 'Training Vs Validation')"
      ]
     },
     "execution_count": 12,
     "metadata": {},
     "output_type": "execute_result"
    },
    {
     "data": {
      "image/png": "[encoded data removed]",
      "text/plain": [
       "<Figure size 1080x360 with 1 Axes>"
      ]
     },
     "metadata": {
      "needs_background": "light"
     },
     "output_type": "display_data"
    }
   ],
   "source": [
    "plt.figure(figsize=(15,5))\n",
    "plt.plot(results.history['loss'],'r',label='Training Loss')\n",
    "plt.plot(results.history['val_loss'],'b',label='Validation loss')\n",
    "plt.xlabel('epochs')\n",
    "plt.ylabel('loss')\n",
    "plt.legend(loc='lower right')\n",
    "plt.title('Training Vs Validation')"
   ]
  },
  {
   "cell_type": "code",
   "execution_count": 13,
   "metadata": {},
   "outputs": [],
   "source": [
    "#transfer_model.save('TL_CNN_Monkey.h5')"
   ]
  },
  {
   "cell_type": "code",
   "execution_count": 14,
   "metadata": {},
   "outputs": [
    {
     "name": "stderr",
     "output_type": "stream",
     "text": [
      "/home/amoghavarsha/Project_CNN/my_project_env/lib/python3.6/site-packages/tensorflow/python/keras/engine/training.py:1877: UserWarning: `Model.evaluate_generator` is deprecated and will be removed in a future version. Please use `Model.evaluate`, which supports generators.\n",
      "  warnings.warn('`Model.evaluate_generator` is deprecated and '\n"
     ]
    }
   ],
   "source": [
    "_, acc = transfer_model.evaluate_generator(validation_gen, steps=272 //batch_size)"
   ]
  },
  {
   "cell_type": "code",
   "execution_count": 15,
   "metadata": {},
   "outputs": [
    {
     "name": "stdout",
     "output_type": "stream",
     "text": [
      "The testing accuracy for the CNN with the 10-Species-Monkey dataset is : 86.765\n"
     ]
    }
   ],
   "source": [
    "print('The testing accuracy for the CNN with the 10-Species-Monkey dataset is : %.3f' % (acc * 100.0))"
   ]
  },
  {
   "cell_type": "code",
   "execution_count": null,
   "metadata": {},
   "outputs": [],
   "source": [
    "# from tensorflow import keras\n",
    "# x = keras.models.load_model('TL_CNN_Monkey.h5')"
   ]
  }
 ],
 "metadata": {
  "kernelspec": {
   "display_name": "Python 3",
   "language": "python",
   "name": "python3"
  },
  "language_info": {
   "codemirror_mode": {
    "name": "ipython",
    "version": 3
   },
   "file_extension": ".py",
   "mimetype": "text/x-python",
   "name": "python",
   "nbconvert_exporter": "python",
   "pygments_lexer": "ipython3",
   "version": "3.6.9"
  }
 },
 "nbformat": 4,
 "nbformat_minor": 4
}
