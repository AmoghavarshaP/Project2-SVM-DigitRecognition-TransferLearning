{
 "cells": [
  {
   "cell_type": "code",
   "execution_count": 1,
   "metadata": {},
   "outputs": [],
   "source": [
    "#Implementation of a convolutional Neural Network (CNN) with the 10-Species Monkey Dataset"
   ]
  },
  {
   "cell_type": "code",
   "execution_count": 2,
   "metadata": {},
   "outputs": [],
   "source": [
    "import matplotlib.pyplot as plt\n",
    "%matplotlib inline"
   ]
  },
  {
   "cell_type": "code",
   "execution_count": 3,
   "metadata": {},
   "outputs": [],
   "source": [
    "#Create an ImageGenerator object that is used to randomize and make certain small transformations to the image\n",
    "#to build better and robust networks\n",
    "\n",
    "from keras.preprocessing.image import ImageDataGenerator"
   ]
  },
  {
   "cell_type": "code",
   "execution_count": 4,
   "metadata": {},
   "outputs": [],
   "source": [
    "image_gen = ImageDataGenerator(rotation_range=30,\n",
    "                              width_shift_range=0.1,\n",
    "                              height_shift_range=0.1,\n",
    "                              rescale=1/255,\n",
    "                              zoom_range=0.2,\n",
    "                              shear_range=0.2,\n",
    "                              fill_mode='nearest')"
   ]
  },
  {
   "cell_type": "markdown",
   "metadata": {},
   "source": [
    "## Model:"
   ]
  },
  {
   "cell_type": "code",
   "execution_count": 5,
   "metadata": {},
   "outputs": [],
   "source": [
    "from keras.models import Sequential\n",
    "from keras.layers import Dense,Dropout,Flatten,Conv2D,MaxPooling2D"
   ]
  },
  {
   "cell_type": "code",
   "execution_count": 6,
   "metadata": {},
   "outputs": [],
   "source": [
    "model = Sequential()\n",
    "\n",
    "model.add(Conv2D(filters=32, kernel_size=(3,3),input_shape=(150,150,3), activation='relu',))\n",
    "model.add(MaxPooling2D(pool_size=(2,2)))\n",
    "\n",
    "model.add(Conv2D(filters=64,kernel_size=(3,3),activation='relu',))\n",
    "model.add(MaxPooling2D(pool_size=(2,2)))\n",
    "\n",
    "model.add(Conv2D(filters=64,kernel_size=(3,3),activation='relu',))\n",
    "model.add(MaxPooling2D(pool_size=(2,2)))\n",
    "\n",
    "#Now need to flatten the model essentally 2d to 1d\n",
    "model.add(Flatten())\n",
    "\n",
    "#Now include the Dense layers\n",
    "model.add(Dense(128,activation='relu'))\n",
    "\n",
    "#Finally, the output layer\n",
    "model.add(Dense(10 , activation ='softmax'))\n",
    "\n",
    "model.compile(loss=\"categorical_crossentropy\", optimizer=\"adam\", metrics=[\"accuracy\"])"
   ]
  },
  {
   "cell_type": "code",
   "execution_count": 7,
   "metadata": {},
   "outputs": [
    {
     "name": "stdout",
     "output_type": "stream",
     "text": [
      "Model: \"sequential\"\n",
      "_________________________________________________________________\n",
      "Layer (type)                 Output Shape              Param #   \n",
      "=================================================================\n",
      "conv2d (Conv2D)              (None, 148, 148, 32)      896       \n",
      "_________________________________________________________________\n",
      "max_pooling2d (MaxPooling2D) (None, 74, 74, 32)        0         \n",
      "_________________________________________________________________\n",
      "conv2d_1 (Conv2D)            (None, 72, 72, 64)        18496     \n",
      "_________________________________________________________________\n",
      "max_pooling2d_1 (MaxPooling2 (None, 36, 36, 64)        0         \n",
      "_________________________________________________________________\n",
      "conv2d_2 (Conv2D)            (None, 34, 34, 64)        36928     \n",
      "_________________________________________________________________\n",
      "max_pooling2d_2 (MaxPooling2 (None, 17, 17, 64)        0         \n",
      "_________________________________________________________________\n",
      "flatten (Flatten)            (None, 18496)             0         \n",
      "_________________________________________________________________\n",
      "dense (Dense)                (None, 128)               2367616   \n",
      "_________________________________________________________________\n",
      "dense_1 (Dense)              (None, 10)                1290      \n",
      "=================================================================\n",
      "Total params: 2,425,226\n",
      "Trainable params: 2,425,226\n",
      "Non-trainable params: 0\n",
      "_________________________________________________________________\n"
     ]
    }
   ],
   "source": [
    "model.summary()"
   ]
  },
  {
   "cell_type": "code",
   "execution_count": 8,
   "metadata": {},
   "outputs": [],
   "source": [
    "train_directory = '/home/amoghavarsha/Project_CNN/my_project_env/Dataset/training/training'\n",
    "validation_directory = '/home/amoghavarsha/Project_CNN/my_project_env/Dataset/validation/validation'"
   ]
  },
  {
   "cell_type": "code",
   "execution_count": 9,
   "metadata": {},
   "outputs": [
    {
     "name": "stdout",
     "output_type": "stream",
     "text": [
      "Found 1098 images belonging to 10 classes.\n"
     ]
    }
   ],
   "source": [
    "## Getting the training and the validation sets\n",
    "batch_size = 16\n",
    "train_gen = image_gen.flow_from_directory(train_directory,target_size=(150,150),batch_size=batch_size,\n",
    "                                         class_mode='categorical')"
   ]
  },
  {
   "cell_type": "code",
   "execution_count": 10,
   "metadata": {},
   "outputs": [
    {
     "name": "stdout",
     "output_type": "stream",
     "text": [
      "Found 272 images belonging to 10 classes.\n"
     ]
    }
   ],
   "source": [
    "validation_gen = image_gen.flow_from_directory(validation_directory,target_size=(150,150),batch_size=batch_size,\n",
    "                                         class_mode='categorical')"
   ]
  },
  {
   "cell_type": "markdown",
   "metadata": {},
   "source": [
    "## Training the Model"
   ]
  },
  {
   "cell_type": "code",
   "execution_count": 11,
   "metadata": {},
   "outputs": [],
   "source": [
    "import warnings\n",
    "warnings.filterwarnings('ignore')"
   ]
  },
  {
   "cell_type": "code",
   "execution_count": 12,
   "metadata": {},
   "outputs": [
    {
     "name": "stdout",
     "output_type": "stream",
     "text": [
      "Epoch 1/30\n",
      "68/68 [==============================] - 45s 661ms/step - loss: 2.2666 - accuracy: 0.1432 - val_loss: 1.9484 - val_accuracy: 0.3199\n",
      "Epoch 2/30\n",
      "68/68 [==============================] - 44s 652ms/step - loss: 1.8857 - accuracy: 0.3390 - val_loss: 1.6936 - val_accuracy: 0.3860\n",
      "Epoch 3/30\n",
      "68/68 [==============================] - 44s 649ms/step - loss: 1.5568 - accuracy: 0.4576 - val_loss: 1.5618 - val_accuracy: 0.4816\n",
      "Epoch 4/30\n",
      "68/68 [==============================] - 46s 681ms/step - loss: 1.4113 - accuracy: 0.4789 - val_loss: 1.3551 - val_accuracy: 0.5184\n",
      "Epoch 5/30\n",
      "68/68 [==============================] - 46s 680ms/step - loss: 1.2357 - accuracy: 0.5393 - val_loss: 1.2825 - val_accuracy: 0.5441\n",
      "Epoch 6/30\n",
      "68/68 [==============================] - 45s 660ms/step - loss: 1.2610 - accuracy: 0.5612 - val_loss: 1.3921 - val_accuracy: 0.5515\n",
      "Epoch 7/30\n",
      "68/68 [==============================] - 45s 658ms/step - loss: 1.1620 - accuracy: 0.6103 - val_loss: 1.2323 - val_accuracy: 0.5441\n",
      "Epoch 8/30\n",
      "68/68 [==============================] - 46s 675ms/step - loss: 1.0508 - accuracy: 0.6211 - val_loss: 1.3274 - val_accuracy: 0.5368\n",
      "Epoch 9/30\n",
      "68/68 [==============================] - 49s 715ms/step - loss: 1.0696 - accuracy: 0.6232 - val_loss: 1.1658 - val_accuracy: 0.5772\n",
      "Epoch 10/30\n",
      "68/68 [==============================] - 66s 977ms/step - loss: 0.9901 - accuracy: 0.6566 - val_loss: 1.2194 - val_accuracy: 0.6176\n",
      "Epoch 11/30\n",
      "68/68 [==============================] - 60s 877ms/step - loss: 0.8802 - accuracy: 0.6774 - val_loss: 1.1355 - val_accuracy: 0.5809\n",
      "Epoch 12/30\n",
      "68/68 [==============================] - 49s 713ms/step - loss: 0.8671 - accuracy: 0.7004 - val_loss: 1.0990 - val_accuracy: 0.6066\n",
      "Epoch 13/30\n",
      "68/68 [==============================] - 46s 670ms/step - loss: 0.8195 - accuracy: 0.7146 - val_loss: 1.1952 - val_accuracy: 0.6324\n",
      "Epoch 14/30\n",
      "68/68 [==============================] - 48s 705ms/step - loss: 0.8556 - accuracy: 0.6925 - val_loss: 1.1556 - val_accuracy: 0.6213\n",
      "Epoch 15/30\n",
      "68/68 [==============================] - 49s 715ms/step - loss: 0.7646 - accuracy: 0.7391 - val_loss: 1.1162 - val_accuracy: 0.6324\n",
      "Epoch 16/30\n",
      "68/68 [==============================] - 49s 706ms/step - loss: 0.7271 - accuracy: 0.7403 - val_loss: 1.1035 - val_accuracy: 0.6250\n",
      "Epoch 17/30\n",
      "68/68 [==============================] - 48s 700ms/step - loss: 0.6814 - accuracy: 0.7707 - val_loss: 1.0190 - val_accuracy: 0.6544\n",
      "Epoch 18/30\n",
      "68/68 [==============================] - 48s 706ms/step - loss: 0.6975 - accuracy: 0.7647 - val_loss: 0.9927 - val_accuracy: 0.6691\n",
      "Epoch 19/30\n",
      "68/68 [==============================] - 49s 716ms/step - loss: 0.6346 - accuracy: 0.7796 - val_loss: 1.1372 - val_accuracy: 0.6176\n",
      "Epoch 20/30\n",
      "68/68 [==============================] - 47s 694ms/step - loss: 0.6585 - accuracy: 0.7685 - val_loss: 1.0725 - val_accuracy: 0.6618\n",
      "Epoch 21/30\n",
      "68/68 [==============================] - 47s 685ms/step - loss: 0.5542 - accuracy: 0.7936 - val_loss: 1.0307 - val_accuracy: 0.6985\n",
      "Epoch 22/30\n",
      "68/68 [==============================] - 46s 674ms/step - loss: 0.4744 - accuracy: 0.8526 - val_loss: 1.0310 - val_accuracy: 0.6949\n",
      "Epoch 23/30\n",
      "68/68 [==============================] - 47s 691ms/step - loss: 0.4850 - accuracy: 0.8299 - val_loss: 1.0705 - val_accuracy: 0.7022\n",
      "Epoch 24/30\n",
      "68/68 [==============================] - 47s 694ms/step - loss: 0.4726 - accuracy: 0.8346 - val_loss: 1.1040 - val_accuracy: 0.6912\n",
      "Epoch 25/30\n",
      "68/68 [==============================] - 46s 681ms/step - loss: 0.4523 - accuracy: 0.8350 - val_loss: 1.0902 - val_accuracy: 0.6765\n",
      "Epoch 26/30\n",
      "68/68 [==============================] - 57s 844ms/step - loss: 0.4530 - accuracy: 0.8322 - val_loss: 1.0246 - val_accuracy: 0.6654\n",
      "Epoch 27/30\n",
      "68/68 [==============================] - 68s 999ms/step - loss: 0.4913 - accuracy: 0.8118 - val_loss: 0.8551 - val_accuracy: 0.7316\n",
      "Epoch 28/30\n",
      "68/68 [==============================] - 45s 655ms/step - loss: 0.3429 - accuracy: 0.8769 - val_loss: 1.0115 - val_accuracy: 0.7096\n",
      "Epoch 29/30\n",
      "68/68 [==============================] - 46s 677ms/step - loss: 0.3273 - accuracy: 0.9003 - val_loss: 1.0564 - val_accuracy: 0.7243\n",
      "Epoch 30/30\n",
      "68/68 [==============================] - 47s 690ms/step - loss: 0.3587 - accuracy: 0.8828 - val_loss: 1.1316 - val_accuracy: 0.7059\n"
     ]
    }
   ],
   "source": [
    "results = model.fit_generator(train_gen,epochs=30,steps_per_epoch=1097//batch_size,\n",
    "                              validation_data=validation_gen,validation_steps=272//batch_size)"
   ]
  },
  {
   "cell_type": "code",
   "execution_count": 20,
   "metadata": {},
   "outputs": [
    {
     "data": {
      "text/plain": [
       "<matplotlib.legend.Legend at 0x7ff6153fd940>"
      ]
     },
     "execution_count": 20,
     "metadata": {},
     "output_type": "execute_result"
    },
    {
     "data": {
      "image/png": "[encoded data removed]",
      "text/plain": [
       "<Figure size 1080x360 with 1 Axes>"
      ]
     },
     "metadata": {
      "needs_background": "light"
     },
     "output_type": "display_data"
    }
   ],
   "source": [
    "plt.figure(figsize=(15,5))\n",
    "plt.plot(results.history['accuracy'],'r',label='Training Accuracy')\n",
    "plt.plot(results.history['val_accuracy'],'b',label='Validation Accuracy')\n",
    "plt.xlabel('epochs')\n",
    "plt.ylabel('accuracy')\n",
    "plt.legend(loc='lower right')"
   ]
  },
  {
   "cell_type": "code",
   "execution_count": 23,
   "metadata": {},
   "outputs": [
    {
     "data": {
      "text/plain": [
       "<matplotlib.legend.Legend at 0x7ff61532b198>"
      ]
     },
     "execution_count": 23,
     "metadata": {},
     "output_type": "execute_result"
    },
    {
     "data": {
      "image/png": "[encoded data removed]",
      "text/plain": [
       "<Figure size 1080x360 with 1 Axes>"
      ]
     },
     "metadata": {
      "needs_background": "light"
     },
     "output_type": "display_data"
    }
   ],
   "source": [
    "plt.figure(figsize=(15,5))\n",
    "plt.plot(results.history['loss'],'r',label='Training Loss')\n",
    "plt.plot(results.history['val_loss'],'b',label='Validation loss')\n",
    "plt.xlabel('epochs')\n",
    "plt.ylabel('loss')\n",
    "plt.legend(loc='lower right')"
   ]
  },
  {
   "cell_type": "code",
   "execution_count": 21,
   "metadata": {},
   "outputs": [],
   "source": [
    "_, acc = model.evaluate_generator(validation_gen, steps=272 //batch_size)"
   ]
  },
  {
   "cell_type": "code",
   "execution_count": 22,
   "metadata": {},
   "outputs": [
    {
     "name": "stdout",
     "output_type": "stream",
     "text": [
      "The testing accuracy for the CNN with the 10-Species-Monkey dataset is : 70.956\n"
     ]
    }
   ],
   "source": [
    "print('The testing accuracy for the CNN with the 10-Species-Monkey dataset is : %.3f' % (acc * 100.0))"
   ]
  }
 ],
 "metadata": {
  "kernelspec": {
   "display_name": "Python 3",
   "language": "python",
   "name": "python3"
  },
  "language_info": {
   "codemirror_mode": {
    "name": "ipython",
    "version": 3
   },
   "file_extension": ".py",
   "mimetype": "text/x-python",
   "name": "python",
   "nbconvert_exporter": "python",
   "pygments_lexer": "ipython3",
   "version": "3.6.9"
  }
 },
 "nbformat": 4,
 "nbformat_minor": 4
}
