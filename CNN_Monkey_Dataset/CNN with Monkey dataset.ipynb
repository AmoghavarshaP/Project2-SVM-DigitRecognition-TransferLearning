{
 "cells": [
  {
   "cell_type": "code",
   "execution_count": 1,
   "metadata": {},
   "outputs": [],
   "source": [
    "#Implementation of a convolutional Neural Network (CNN) with the 10-Species Monkey Dataset"
   ]
  },
  {
   "cell_type": "code",
   "execution_count": 2,
   "metadata": {},
   "outputs": [],
   "source": [
    "import matplotlib.pyplot as plt\n",
    "%matplotlib inline"
   ]
  },
  {
   "cell_type": "code",
   "execution_count": 3,
   "metadata": {},
   "outputs": [],
   "source": [
    "#Create an ImageGenerator object that is used to randomize and make certain small transformations to the image\n",
    "#to build better and robust networks\n",
    "\n",
    "from keras.preprocessing.image import ImageDataGenerator"
   ]
  },
  {
   "cell_type": "code",
   "execution_count": 4,
   "metadata": {},
   "outputs": [],
   "source": [
    "image_gen = ImageDataGenerator(rotation_range=30,\n",
    "                              width_shift_range=0.1,\n",
    "                              height_shift_range=0.1,\n",
    "                              rescale=1/255,\n",
    "                              zoom_range=0.2,\n",
    "                              shear_range=0.2,\n",
    "                              fill_mode='nearest')"
   ]
  },
  {
   "cell_type": "markdown",
   "metadata": {},
   "source": [
    "## Model:"
   ]
  },
  {
   "cell_type": "code",
   "execution_count": 5,
   "metadata": {},
   "outputs": [],
   "source": [
    "from keras.models import Sequential\n",
    "from keras.layers import Dense,Dropout,Flatten,Conv2D,MaxPooling2D"
   ]
  },
  {
   "cell_type": "code",
   "execution_count": 6,
   "metadata": {},
   "outputs": [],
   "source": [
    "model = Sequential()\n",
    "\n",
    "model.add(Conv2D(filters=32, kernel_size=(3,3),input_shape=(150,150,3), activation='relu',))\n",
    "model.add(MaxPooling2D(pool_size=(2,2)))\n",
    "\n",
    "model.add(Conv2D(filters=64,kernel_size=(3,3),activation='relu',))\n",
    "model.add(MaxPooling2D(pool_size=(2,2)))\n",
    "\n",
    "model.add(Conv2D(filters=64,kernel_size=(3,3),activation='relu',))\n",
    "model.add(MaxPooling2D(pool_size=(2,2)))\n",
    "\n",
    "#Now need to flatten the model essentally 2d to 1d\n",
    "model.add(Flatten())\n",
    "\n",
    "#Now include the Dense layers\n",
    "model.add(Dense(128,activation='relu'))\n",
    "\n",
    "#Finally, the output layer\n",
    "model.add(Dense(10 , activation ='softmax'))\n",
    "\n",
    "model.compile(loss=\"categorical_crossentropy\", optimizer=\"adam\", metrics=[\"accuracy\"])"
   ]
  },
  {
   "cell_type": "code",
   "execution_count": 7,
   "metadata": {},
   "outputs": [
    {
     "name": "stdout",
     "output_type": "stream",
     "text": [
      "Model: \"sequential\"\n",
      "_________________________________________________________________\n",
      "Layer (type)                 Output Shape              Param #   \n",
      "=================================================================\n",
      "conv2d (Conv2D)              (None, 148, 148, 32)      896       \n",
      "_________________________________________________________________\n",
      "max_pooling2d (MaxPooling2D) (None, 74, 74, 32)        0         \n",
      "_________________________________________________________________\n",
      "conv2d_1 (Conv2D)            (None, 72, 72, 64)        18496     \n",
      "_________________________________________________________________\n",
      "max_pooling2d_1 (MaxPooling2 (None, 36, 36, 64)        0         \n",
      "_________________________________________________________________\n",
      "conv2d_2 (Conv2D)            (None, 34, 34, 64)        36928     \n",
      "_________________________________________________________________\n",
      "max_pooling2d_2 (MaxPooling2 (None, 17, 17, 64)        0         \n",
      "_________________________________________________________________\n",
      "flatten (Flatten)            (None, 18496)             0         \n",
      "_________________________________________________________________\n",
      "dense (Dense)                (None, 128)               2367616   \n",
      "_________________________________________________________________\n",
      "dense_1 (Dense)              (None, 10)                1290      \n",
      "=================================================================\n",
      "Total params: 2,425,226\n",
      "Trainable params: 2,425,226\n",
      "Non-trainable params: 0\n",
      "_________________________________________________________________\n"
     ]
    }
   ],
   "source": [
    "model.summary()"
   ]
  },
  {
   "cell_type": "code",
   "execution_count": 8,
   "metadata": {},
   "outputs": [],
   "source": [
    "train_directory = '/home/amoghavarsha/Project_CNN/my_project_env/Dataset/training/training'\n",
    "validation_directory = '/home/amoghavarsha/Project_CNN/my_project_env/Dataset/validation/validation'"
   ]
  },
  {
   "cell_type": "code",
   "execution_count": 9,
   "metadata": {},
   "outputs": [
    {
     "name": "stdout",
     "output_type": "stream",
     "text": [
      "Found 1098 images belonging to 10 classes.\n"
     ]
    }
   ],
   "source": [
    "## Getting the training and the validation sets\n",
    "batch_size = 16\n",
    "train_gen = image_gen.flow_from_directory(train_directory,target_size=(150,150),batch_size=batch_size,\n",
    "                                         class_mode='categorical')"
   ]
  },
  {
   "cell_type": "code",
   "execution_count": 10,
   "metadata": {},
   "outputs": [
    {
     "name": "stdout",
     "output_type": "stream",
     "text": [
      "Found 272 images belonging to 10 classes.\n"
     ]
    }
   ],
   "source": [
    "validation_gen = image_gen.flow_from_directory(validation_directory,target_size=(150,150),batch_size=batch_size,\n",
    "                                         class_mode='categorical')"
   ]
  },
  {
   "cell_type": "markdown",
   "metadata": {},
   "source": [
    "## Training the Model"
   ]
  },
  {
   "cell_type": "code",
   "execution_count": 11,
   "metadata": {},
   "outputs": [],
   "source": [
    "import warnings\n",
    "warnings.filterwarnings('ignore')"
   ]
  },
  {
   "cell_type": "code",
   "execution_count": 12,
   "metadata": {},
   "outputs": [
    {
     "name": "stdout",
     "output_type": "stream",
     "text": [
      "Epoch 1/30\n",
      "68/68 [==============================] - 65s 932ms/step - loss: 2.3081 - accuracy: 0.1275 - val_loss: 1.8777 - val_accuracy: 0.3199\n",
      "Epoch 2/30\n",
      "68/68 [==============================] - 47s 687ms/step - loss: 1.7503 - accuracy: 0.3644 - val_loss: 1.4646 - val_accuracy: 0.4816\n",
      "Epoch 3/30\n",
      "68/68 [==============================] - 44s 649ms/step - loss: 1.3367 - accuracy: 0.5270 - val_loss: 1.3534 - val_accuracy: 0.5221\n",
      "Epoch 4/30\n",
      "68/68 [==============================] - 44s 650ms/step - loss: 1.2484 - accuracy: 0.5447 - val_loss: 1.3308 - val_accuracy: 0.4779\n",
      "Epoch 5/30\n",
      "68/68 [==============================] - 44s 653ms/step - loss: 1.2025 - accuracy: 0.5872 - val_loss: 1.2622 - val_accuracy: 0.5441\n",
      "Epoch 6/30\n",
      "68/68 [==============================] - 45s 666ms/step - loss: 1.1375 - accuracy: 0.5830 - val_loss: 1.3319 - val_accuracy: 0.5368\n",
      "Epoch 7/30\n",
      "68/68 [==============================] - 49s 718ms/step - loss: 0.9892 - accuracy: 0.6521 - val_loss: 1.2627 - val_accuracy: 0.5735\n",
      "Epoch 8/30\n",
      "68/68 [==============================] - 44s 648ms/step - loss: 0.9851 - accuracy: 0.6631 - val_loss: 1.0738 - val_accuracy: 0.6140\n",
      "Epoch 9/30\n",
      "68/68 [==============================] - 45s 655ms/step - loss: 0.9393 - accuracy: 0.6660 - val_loss: 1.1007 - val_accuracy: 0.6066\n",
      "Epoch 10/30\n",
      "68/68 [==============================] - 44s 653ms/step - loss: 0.8413 - accuracy: 0.7177 - val_loss: 1.0808 - val_accuracy: 0.6360\n",
      "Epoch 11/30\n",
      "68/68 [==============================] - 44s 646ms/step - loss: 0.8178 - accuracy: 0.6995 - val_loss: 1.0442 - val_accuracy: 0.6250\n",
      "Epoch 12/30\n",
      "68/68 [==============================] - 44s 651ms/step - loss: 0.7963 - accuracy: 0.7158 - val_loss: 1.1331 - val_accuracy: 0.6397\n",
      "Epoch 13/30\n",
      "68/68 [==============================] - 44s 653ms/step - loss: 0.6628 - accuracy: 0.7674 - val_loss: 0.9582 - val_accuracy: 0.6691\n",
      "Epoch 14/30\n",
      "68/68 [==============================] - 44s 645ms/step - loss: 0.6406 - accuracy: 0.7732 - val_loss: 1.0109 - val_accuracy: 0.6801\n",
      "Epoch 15/30\n",
      "68/68 [==============================] - 43s 638ms/step - loss: 0.5909 - accuracy: 0.7966 - val_loss: 0.9800 - val_accuracy: 0.6912\n",
      "Epoch 16/30\n",
      "68/68 [==============================] - 44s 640ms/step - loss: 0.5604 - accuracy: 0.7907 - val_loss: 1.0663 - val_accuracy: 0.6471\n",
      "Epoch 17/30\n",
      "68/68 [==============================] - 44s 642ms/step - loss: 0.5865 - accuracy: 0.7828 - val_loss: 0.9478 - val_accuracy: 0.6728\n",
      "Epoch 18/30\n",
      "68/68 [==============================] - 44s 641ms/step - loss: 0.4908 - accuracy: 0.8232 - val_loss: 1.0207 - val_accuracy: 0.6581\n",
      "Epoch 19/30\n",
      "68/68 [==============================] - 44s 641ms/step - loss: 0.5422 - accuracy: 0.8068 - val_loss: 0.9703 - val_accuracy: 0.6875\n",
      "Epoch 20/30\n",
      "68/68 [==============================] - 44s 650ms/step - loss: 0.4910 - accuracy: 0.8113 - val_loss: 1.0697 - val_accuracy: 0.6691\n",
      "Epoch 21/30\n",
      "68/68 [==============================] - 43s 638ms/step - loss: 0.4343 - accuracy: 0.8371 - val_loss: 1.2005 - val_accuracy: 0.6618\n",
      "Epoch 22/30\n",
      "68/68 [==============================] - 43s 640ms/step - loss: 0.3902 - accuracy: 0.8616 - val_loss: 1.0741 - val_accuracy: 0.6875\n",
      "Epoch 23/30\n",
      "68/68 [==============================] - 44s 643ms/step - loss: 0.4264 - accuracy: 0.8599 - val_loss: 1.1107 - val_accuracy: 0.6397\n",
      "Epoch 24/30\n",
      "68/68 [==============================] - 44s 638ms/step - loss: 0.3201 - accuracy: 0.8829 - val_loss: 1.0662 - val_accuracy: 0.6912\n",
      "Epoch 25/30\n",
      "68/68 [==============================] - 44s 636ms/step - loss: 0.3646 - accuracy: 0.8767 - val_loss: 1.2955 - val_accuracy: 0.6654\n",
      "Epoch 26/30\n",
      "68/68 [==============================] - 44s 640ms/step - loss: 0.3211 - accuracy: 0.8841 - val_loss: 1.1981 - val_accuracy: 0.6765\n",
      "Epoch 27/30\n",
      "68/68 [==============================] - 44s 638ms/step - loss: 0.3649 - accuracy: 0.8707 - val_loss: 1.0471 - val_accuracy: 0.6581\n",
      "Epoch 28/30\n",
      "68/68 [==============================] - 44s 642ms/step - loss: 0.3722 - accuracy: 0.8793 - val_loss: 0.9192 - val_accuracy: 0.7022\n",
      "Epoch 29/30\n",
      "68/68 [==============================] - 44s 639ms/step - loss: 0.3546 - accuracy: 0.8792 - val_loss: 1.1784 - val_accuracy: 0.6801\n",
      "Epoch 30/30\n",
      "68/68 [==============================] - 43s 639ms/step - loss: 0.2965 - accuracy: 0.9001 - val_loss: 1.1032 - val_accuracy: 0.7243\n"
     ]
    }
   ],
   "source": [
    "results = model.fit_generator(train_gen,epochs=30,steps_per_epoch=1097//batch_size,\n",
    "                              validation_data=validation_gen,validation_steps=272//batch_size)"
   ]
  },
  {
   "cell_type": "code",
   "execution_count": 13,
   "metadata": {},
   "outputs": [
    {
     "data": {
      "text/plain": [
       "<matplotlib.legend.Legend at 0x7fd60e6192e8>"
      ]
     },
     "execution_count": 13,
     "metadata": {},
     "output_type": "execute_result"
    },
    {
     "data": {
      "image/png": "[encoded data removed]",
      "text/plain": [
       "<Figure size 1080x360 with 1 Axes>"
      ]
     },
     "metadata": {
      "needs_background": "light"
     },
     "output_type": "display_data"
    }
   ],
   "source": [
    "plt.figure(figsize=(15,5))\n",
    "\n",
    "plt.plot(results.history['accuracy'],'r',label='Training Accuracy')\n",
    "plt.plot(results.history['val_accuracy'],'b',label='Validation Accuracy')\n",
    "plt.xlabel('epochs')\n",
    "plt.ylabel('accuracy')\n",
    "plt.legend(loc='lower right')"
   ]
  },
  {
   "cell_type": "code",
   "execution_count": 14,
   "metadata": {},
   "outputs": [
    {
     "data": {
      "text/plain": [
       "<matplotlib.legend.Legend at 0x7fd6241eb828>"
      ]
     },
     "execution_count": 14,
     "metadata": {},
     "output_type": "execute_result"
    },
    {
     "data": {
      "image/png": "[encoded data removed]",
      "text/plain": [
       "<Figure size 1080x360 with 1 Axes>"
      ]
     },
     "metadata": {
      "needs_background": "light"
     },
     "output_type": "display_data"
    }
   ],
   "source": [
    "plt.figure(figsize=(15,5))\n",
    "plt.plot(results.history['loss'],'r',label='Training Loss')\n",
    "plt.plot(results.history['val_loss'],'b',label='Validation loss')\n",
    "plt.xlabel('epochs')\n",
    "plt.ylabel('loss')\n",
    "plt.legend(loc='lower right')"
   ]
  },
  {
   "cell_type": "code",
   "execution_count": 15,
   "metadata": {},
   "outputs": [],
   "source": [
    "_, acc = model.evaluate_generator(validation_gen, steps=272 //batch_size)"
   ]
  },
  {
   "cell_type": "code",
   "execution_count": 16,
   "metadata": {},
   "outputs": [
    {
     "name": "stdout",
     "output_type": "stream",
     "text": [
      "The testing accuracy for the CNN with the 10-Species-Monkey dataset is : 69.485\n"
     ]
    }
   ],
   "source": [
    "print('The testing accuracy for the CNN with the 10-Species-Monkey dataset is : %.3f' % (acc * 100.0))"
   ]
  },
  {
   "cell_type": "code",
   "execution_count": null,
   "metadata": {},
   "outputs": [],
   "source": []
  }
 ],
 "metadata": {
  "kernelspec": {
   "display_name": "Python 3",
   "language": "python",
   "name": "python3"
  },
  "language_info": {
   "codemirror_mode": {
    "name": "ipython",
    "version": 3
   },
   "file_extension": ".py",
   "mimetype": "text/x-python",
   "name": "python",
   "nbconvert_exporter": "python",
   "pygments_lexer": "ipython3",
   "version": "3.6.9"
  }
 },
 "nbformat": 4,
 "nbformat_minor": 4
}
